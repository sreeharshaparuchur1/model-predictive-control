{
 "cells": [
  {
   "cell_type": "code",
   "execution_count": 1,
   "metadata": {},
   "outputs": [],
   "source": [
    "import cvxopt\n",
    "import numpy as np\n",
    "import matplotlib.pyplot as plt"
   ]
  },
  {
   "cell_type": "code",
   "execution_count": 2,
   "metadata": {},
   "outputs": [],
   "source": [
    "P = cvxopt.matrix(np.array([[1,0],[0,0]]),tc='d')\n",
    "q = cvxopt.matrix(np.array([3,4]),tc='d')\n",
    "g = cvxopt.matrix(np.array([[-1,0],[0,-1],[-1,-3],[2,5],[3,4]]),tc='d')\n",
    "h = cvxopt.matrix(np.array([0,0,-15,100,80]),tc='d')"
   ]
  },
  {
   "cell_type": "code",
   "execution_count": 3,
   "metadata": {},
   "outputs": [
    {
     "name": "stdout",
     "output_type": "stream",
     "text": [
      "     pcost       dcost       gap    pres   dres\n",
      " 0:  1.0780e+02 -7.6366e+02  9e+02  0e+00  4e+01\n",
      " 1:  9.3245e+01  9.7637e+00  8e+01  6e-17  3e+00\n",
      " 2:  6.7311e+01  3.2553e+01  3e+01  6e-17  1e+00\n",
      " 3:  2.6071e+01  1.5068e+01  1e+01  9e-17  7e-01\n",
      " 4:  3.7092e+01  2.3152e+01  1e+01  8e-17  4e-01\n",
      " 5:  2.5352e+01  1.8652e+01  7e+00  9e-17  3e-16\n",
      " 6:  2.0062e+01  1.9974e+01  9e-02  1e-16  2e-16\n",
      " 7:  2.0001e+01  2.0000e+01  9e-04  2e-16  0e+00\n",
      " 8:  2.0000e+01  2.0000e+01  9e-06  9e-17  3e-16\n",
      "Optimal solution found.\n",
      "[ 7.13e-07]\n",
      "[ 5.00e+00]\n",
      "\n"
     ]
    }
   ],
   "source": [
    "sol = cvxopt.solvers.qp(P,q,g,h)\n",
    "print(sol['x'])"
   ]
  },
  {
   "cell_type": "code",
   "execution_count": 4,
   "metadata": {},
   "outputs": [
    {
     "name": "stdout",
     "output_type": "stream",
     "text": [
      "7.131816408857276e-07\n"
     ]
    }
   ],
   "source": [
    "print(sol['x'][0])"
   ]
  },
  {
   "cell_type": "code",
   "execution_count": 5,
   "metadata": {},
   "outputs": [],
   "source": [
    "P = (2.0)*cvxopt.matrix(np.array([[2, 0.5],[0.5, 1]]), tc='d')\n",
    "q = cvxopt.matrix(np.array([1,1]), tc='d')\n",
    "G = cvxopt.matrix(np.array([[-1.0, 0.0],[0.0, -1.0]]), tc='d')\n",
    "h = cvxopt.matrix(np.array([0,0]), tc='d')\n",
    "A = cvxopt.matrix(np.array([1.0, 1.0]).reshape((1,2)), tc='d')\n",
    "b = cvxopt.matrix(np.array([1.0]),tc='d')"
   ]
  },
  {
   "cell_type": "code",
   "execution_count": 6,
   "metadata": {},
   "outputs": [
    {
     "name": "stdout",
     "output_type": "stream",
     "text": [
      "     pcost       dcost       gap    pres   dres\n",
      " 0:  1.8889e+00  7.7778e-01  1e+00  2e-16  2e+00\n",
      " 1:  1.8769e+00  1.8320e+00  4e-02  1e-16  6e-02\n",
      " 2:  1.8750e+00  1.8739e+00  1e-03  1e-16  5e-04\n",
      " 3:  1.8750e+00  1.8750e+00  1e-05  0e+00  5e-06\n",
      " 4:  1.8750e+00  1.8750e+00  1e-07  2e-16  5e-08\n",
      "Optimal solution found.\n",
      "[ 2.50e-01]\n",
      "[ 7.50e-01]\n",
      "\n"
     ]
    }
   ],
   "source": [
    "sol = cvxopt.solvers.qp(P,q,G,h,A,b)\n",
    "print(sol['x'])"
   ]
  },
  {
   "cell_type": "code",
   "execution_count": 7,
   "metadata": {},
   "outputs": [
    {
     "name": "stdout",
     "output_type": "stream",
     "text": [
      "0.2500000952702475\n",
      "0.7499999047297525\n"
     ]
    }
   ],
   "source": [
    "print(sol['x'][0])\n",
    "print(sol['x'][1])"
   ]
  },
  {
   "cell_type": "code",
   "execution_count": 51,
   "metadata": {},
   "outputs": [],
   "source": [
    "t_del = 1\n",
    "v_init = np.array([10,10])\n",
    "\n",
    "class MPC_Agent:\n",
    "    def __init__(self, start, goal, steps, vmax):\n",
    "        self.xpath = []\n",
    "        self.ypath = []\n",
    "        self.time = 0\n",
    "        self.pos = start\n",
    "        self.goal = goal\n",
    "        self.v = v_init\n",
    "        self.steps = steps\n",
    "        self.vmax = vmax\n",
    "        \n",
    "    def traj_opti(self):\n",
    "        print(\"start Vx: \", self.v[0], \"start Vy: \", self.v[1])\n",
    "       \n",
    "        x = (t_del ** 2) * np.vstack((np.hstack((np.ones((self.steps, self.steps)), np.zeros((self.steps, self.steps)))), np.hstack((np.zeros((self.steps, self.steps)), np.ones((self.steps, self.steps))))))\n",
    "        P= float(2) * cvxopt.matrix(x, tc = 'd')\n",
    "        kx = self.pos[0] - self.goal[0]\n",
    "        ky = self.pos[1] - self.goal[1]\n",
    "        Q_mat_x = float(kx) * np.ones((self.steps,1))\n",
    "        Q_mat_y = float(ky) * np.ones((self.steps,1))\n",
    "        Q_mat = float(2.0 * t_del) * np.vstack((Q_mat_x, Q_mat_y))\n",
    "        Q = cvxopt.matrix(Q_mat, tc = 'd')\n",
    "        G_mat_x = np.zeros((4 * self.steps, 2 * self.steps))\n",
    "        for i in range(0, self.steps):\n",
    "            G_mat_x[i][i] = -1\n",
    "            G_mat_x[i + self.steps][i] = 1\n",
    "            G_mat_x[i + 2*self.steps][i+self.steps] = -1\n",
    "            G_mat_x[i + 3*self.steps][i+self.steps] = 1\n",
    "        H_mat_x = np.zeros((4 * self.steps, 1))\n",
    "        for i in range(0, self.steps):\n",
    "            H_mat_x[i] = 0\n",
    "            H_mat_x[i + self.steps] = self.vmax\n",
    "            H_mat_x[i + 2*self.steps] = 0\n",
    "            H_mat_x[i + 3*self.steps] = self.vmax\n",
    "        G = cvxopt.matrix(G_mat_x, tc = 'd')\n",
    "        H = cvxopt.matrix(H_mat_x, tc = 'd')\n",
    "        sol = cvxopt.solvers.qp(P,Q,G,H,options={'show_progress': False})\n",
    "        \n",
    "        for i in range(0,self.steps):\n",
    "            x_i = self.pos[0] + sol['x'][i] * t_del\n",
    "            y_i = self.pos[1] + sol['x'][i + self.steps] * t_del\n",
    "            \n",
    "            #print(sol['x'])\n",
    "            \n",
    "            print(sol['x'][i])\n",
    "            print(sol['x'][i + self.steps])\n",
    "            self.xpath.append(x_i.astype('float'))\n",
    "            self.ypath.append(y_i.astype('float'))\n",
    "            self.pos[0] = x_i\n",
    "            self.pos[1] = y_i\n",
    "            print(self.pos[0], self.pos[1])\n",
    "                \n",
    "        print('----------------------------------------------')\n",
    "        self.time += 1\n",
    "        print(self.time, self.pos[0], self.pos[1])\n",
    "        self.visualize_traj()\n",
    "    \n",
    "    def visualize_traj(self):\n",
    "        x_path = np.array(self.xpath)\n",
    "        y_path = np.array(self.ypath)\n",
    "        plt.plot(x_path, y_path)\n",
    "        plt.show()"
   ]
  },
  {
   "cell_type": "code",
   "execution_count": 52,
   "metadata": {},
   "outputs": [
    {
     "name": "stdout",
     "output_type": "stream",
     "text": [
      "start Vx:  10 start Vy:  10\n",
      "0.700000149048653\n",
      "1.2000000458105125\n",
      "1.7000001490486532 2.2000000458105125\n",
      "0.7000001490486519\n",
      "1.2000000458105111\n",
      "2.400000298097305 3.4000000916210236\n",
      "0.7000001490486539\n",
      "1.2000000458105131\n",
      "3.100000447145959 4.600000137431537\n",
      "0.7000001490486523\n",
      "1.200000045810512\n",
      "3.8000005961946113 5.800000183242049\n",
      "0.7000001490485709\n",
      "1.2000000459027933\n",
      "4.500000745243182 7.000000229144842\n",
      "0.7000001490485726\n",
      "1.2000000459027937\n",
      "5.200000894291755 8.200000275047636\n",
      "0.7000001490485724\n",
      "1.2000000459027929\n",
      "5.900001043340327 9.40000032095043\n",
      "0.7000001490485724\n",
      "1.2000000459027926\n",
      "6.6000011923889 10.600000366853221\n",
      "0.7000001490485737\n",
      "1.2000000458114486\n",
      "7.300001341437474 11.80000041266467\n",
      "0.7000001490485734\n",
      "1.2000000458114468\n",
      "8.000001490486047 13.000000458476116\n",
      "0.7000001490485734\n",
      "1.2000000458114468\n",
      "8.700001639534621 14.200000504287562\n",
      "0.7000001490485734\n",
      "1.2000000458114466\n",
      "9.400001788583195 15.400000550099008\n",
      "0.7000001490485737\n",
      "1.2000000457191873\n",
      "10.100001937631768 16.600000595818194\n",
      "0.7000001490485731\n",
      "1.2000000457191873\n",
      "10.800002086680342 17.80000064153738\n",
      "0.7000001490485737\n",
      "1.2000000457191888\n",
      "11.500002235728916 19.00000068725657\n",
      "0.7000001490485732\n",
      "1.2000000457191873\n",
      "12.20000238477749 20.200000732975756\n",
      "0.7000001490485709\n",
      "1.2000000458105335\n",
      "12.90000253382606 21.40000077878629\n",
      "0.7000001490485716\n",
      "1.2000000458105335\n",
      "13.600002682874631 22.600000824596822\n",
      "0.7000001490485713\n",
      "1.2000000458105335\n",
      "14.300002831923203 23.800000870407356\n",
      "0.7000001490485713\n",
      "1.2000000458105335\n",
      "15.000002980971775 25.00000091621789\n",
      "----------------------------------------------\n",
      "1 15.000002980971775 25.00000091621789\n"
     ]
    },
    {
     "data": {
      "image/png": "[encoded data removed]",
      "text/plain": [
       "<Figure size 432x288 with 1 Axes>"
      ]
     },
     "metadata": {
      "needs_background": "light"
     },
     "output_type": "display_data"
    }
   ],
   "source": [
    "bot = MPC_Agent(np.array([1.0,1.0]),np.array([15.0,25.0]),20, 20.0)\n",
    "bot.traj_opti()"
   ]
  },
  {
   "cell_type": "code",
   "execution_count": null,
   "metadata": {},
   "outputs": [],
   "source": []
  }
 ],
 "metadata": {
  "kernelspec": {
   "display_name": "Python 3",
   "language": "python",
   "name": "python3"
  },
  "language_info": {
   "codemirror_mode": {
    "name": "ipython",
    "version": 3
   },
   "file_extension": ".py",
   "mimetype": "text/x-python",
   "name": "python",
   "nbconvert_exporter": "python",
   "pygments_lexer": "ipython3",
   "version": "3.6.9"
  }
 },
 "nbformat": 4,
 "nbformat_minor": 4
}
