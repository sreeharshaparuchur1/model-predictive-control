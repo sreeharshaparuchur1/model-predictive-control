{
 "cells": [
  {
   "cell_type": "code",
   "execution_count": 1,
   "metadata": {},
   "outputs": [],
   "source": [
    "import cvxopt\n",
    "import numpy as np\n",
    "import matplotlib.pyplot as plt"
   ]
  },
  {
   "cell_type": "code",
   "execution_count": 2,
   "metadata": {},
   "outputs": [
    {
     "name": "stdout",
     "output_type": "stream",
     "text": [
      "(2, 2)\n"
     ]
    }
   ],
   "source": [
    "P = cvxopt.matrix(np.array([[1,0],[0,0]]),tc='d')\n",
    "q = cvxopt.matrix(np.array([3,4]),tc='d')\n",
    "g = cvxopt.matrix(np.array([[-1,0],[0,-1],[-1,-3],[2,5],[3,4]]),tc='d')\n",
    "h = cvxopt.matrix(np.array([0,0,-15,100,80]),tc='d')"
   ]
  },
  {
   "cell_type": "code",
   "execution_count": 4,
   "metadata": {},
   "outputs": [
    {
     "name": "stdout",
     "output_type": "stream",
     "text": [
      "     pcost       dcost       gap    pres   dres\n",
      " 0:  1.0780e+02 -7.6366e+02  9e+02  0e+00  4e+01\n",
      " 1:  9.3245e+01  9.7637e+00  8e+01  6e-17  3e+00\n",
      " 2:  6.7311e+01  3.2553e+01  3e+01  6e-17  1e+00\n",
      " 3:  2.6071e+01  1.5068e+01  1e+01  9e-17  7e-01\n",
      " 4:  3.7092e+01  2.3152e+01  1e+01  8e-17  4e-01\n",
      " 5:  2.5352e+01  1.8652e+01  7e+00  9e-17  3e-16\n",
      " 6:  2.0062e+01  1.9974e+01  9e-02  1e-16  2e-16\n",
      " 7:  2.0001e+01  2.0000e+01  9e-04  2e-16  0e+00\n",
      " 8:  2.0000e+01  2.0000e+01  9e-06  9e-17  3e-16\n",
      "Optimal solution found.\n",
      "[ 7.13e-07]\n",
      "[ 5.00e+00]\n",
      "\n"
     ]
    }
   ],
   "source": [
    "sol = cvxopt.solvers.qp(P,q,g,h)\n",
    "print(sol['x'])"
   ]
  },
  {
   "cell_type": "code",
   "execution_count": 5,
   "metadata": {},
   "outputs": [
    {
     "name": "stdout",
     "output_type": "stream",
     "text": [
      "7.131816408857276e-07\n"
     ]
    }
   ],
   "source": [
    "print(sol['x'][0])"
   ]
  },
  {
   "cell_type": "code",
   "execution_count": 9,
   "metadata": {},
   "outputs": [],
   "source": [
    "P = (2.0)*cvxopt.matrix(np.array([[2, 0.5],[0.5, 1]]), tc='d')\n",
    "q = cvxopt.matrix(np.array([1,1]), tc='d')\n",
    "G = cvxopt.matrix(np.array([[-1.0, 0.0],[0.0, -1.0]]), tc='d')\n",
    "h = cvxopt.matrix(np.array([0,0]), tc='d')\n",
    "A = cvxopt.matrix(np.array([1.0, 1.0]).reshape((1,2)), tc='d')\n",
    "b = cvxopt.matrix(np.array([1.0]),tc='d')"
   ]
  },
  {
   "cell_type": "code",
   "execution_count": 10,
   "metadata": {},
   "outputs": [
    {
     "name": "stdout",
     "output_type": "stream",
     "text": [
      "     pcost       dcost       gap    pres   dres\n",
      " 0:  1.8889e+00  7.7778e-01  1e+00  2e-16  2e+00\n",
      " 1:  1.8769e+00  1.8320e+00  4e-02  1e-16  6e-02\n",
      " 2:  1.8750e+00  1.8739e+00  1e-03  1e-16  5e-04\n",
      " 3:  1.8750e+00  1.8750e+00  1e-05  0e+00  5e-06\n",
      " 4:  1.8750e+00  1.8750e+00  1e-07  2e-16  5e-08\n",
      "Optimal solution found.\n",
      "[ 2.50e-01]\n",
      "[ 7.50e-01]\n",
      "\n"
     ]
    }
   ],
   "source": [
    "sol = cvxopt.solvers.qp(P,q,G,h,A,b)\n",
    "print(sol['x'])"
   ]
  },
  {
   "cell_type": "code",
   "execution_count": 11,
   "metadata": {},
   "outputs": [
    {
     "name": "stdout",
     "output_type": "stream",
     "text": [
      "0.2500000952702475\n",
      "0.7499999047297525\n"
     ]
    }
   ],
   "source": [
    "print(sol['x'][0])\n",
    "print(sol['x'][1])"
   ]
  },
  {
   "cell_type": "code",
   "execution_count": null,
   "metadata": {},
   "outputs": [],
   "source": []
  }
 ],
 "metadata": {
  "kernelspec": {
   "display_name": "Python 3",
   "language": "python",
   "name": "python3"
  },
  "language_info": {
   "codemirror_mode": {
    "name": "ipython",
    "version": 3
   },
   "file_extension": ".py",
   "mimetype": "text/x-python",
   "name": "python",
   "nbconvert_exporter": "python",
   "pygments_lexer": "ipython3",
   "version": "3.6.9"
  }
 },
 "nbformat": 4,
 "nbformat_minor": 4
}
