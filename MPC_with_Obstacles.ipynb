{
 "cells": [
  {
   "cell_type": "code",
   "execution_count": 13,
   "metadata": {},
   "outputs": [],
   "source": [
    "import numpy as np\n",
    "import cvxopt\n",
    "import matplotlib\n",
    "import matplotlib.pyplot as plt\n",
    "import cvxpy as cvx\n",
    "import dccp"
   ]
  },
  {
   "cell_type": "code",
   "execution_count": 38,
   "metadata": {},
   "outputs": [],
   "source": [
    "t_del = 1\n",
    "\n",
    "class MPC_Agent:\n",
    "    def __init__(self, start, goal, steps, vmax, obs):\n",
    "        self.xpath = []\n",
    "        self.ypath = []\n",
    "        self.time = 0\n",
    "        self.pos = start\n",
    "        self.goal = goal\n",
    "        self.v = np.array([0,0])\n",
    "        self.steps = steps\n",
    "        self.vmax = vmax\n",
    "        self.obs = obs\n",
    "        \n",
    "    def traj_opti(self):\n",
    "        self.xpath.append(self.pos[0])\n",
    "        self.ypath.append(self.pos[1])\n",
    "        while(np.linalg.norm(self.pos - self.goal) > 0.5):\n",
    "            v = cvx.Variable((2,1))\n",
    "            #print(v.shape)\n",
    "            #print(self.pos.shape)\n",
    "            #print(self.goal.shape)\n",
    "            obj = cvx.Minimize((cvx.norm(self.pos + v*t_del - self.goal))**2)\n",
    "            constr = [ v[0]>=0, v[0]<= self.vmax, v[1]>=0, v[1]<=self.vmax]\n",
    "            constr += [ (cvx.norm(self.pos + v*t_del - self.obs[0:2]))**2 >= (self.obs[2])**2]\n",
    "            prob = cvx.Problem(obj, constr)\n",
    "            #print(dccp.is_dccp(prob))\n",
    "            result = prob.solve(method = 'dccp')\n",
    "            print('v = ', v.value)\n",
    "            \n",
    "            self.pos[0] = self.pos[0] + v[0].value * t_del\n",
    "            self.pos[1] = self.pos[1] + v[1].value * t_del\n",
    "            self.xpath.append(self.pos[0])\n",
    "            self.ypath.append(self.pos[1])\n",
    "            self.time += 1\n",
    "            print(self.time, self.pos)\n",
    "        "
   ]
  },
  {
   "cell_type": "code",
   "execution_count": 39,
   "metadata": {},
   "outputs": [
    {
     "name": "stdout",
     "output_type": "stream",
     "text": [
      "v =  [[2.99999997]\n",
      " [2.99999999]]\n",
      "1 [[3.99999997]\n",
      " [3.99999999]]\n",
      "v =  [[2.99999995]\n",
      " [2.99999998]]\n",
      "2 [[6.99999992]\n",
      " [6.99999997]]\n",
      "v =  [[2.99999998]\n",
      " [1.00000003]]\n",
      "3 [[9.9999999]\n",
      " [8.       ]]\n",
      "v =  [[2.99999996]\n",
      " [1.3542485 ]]\n",
      "4 [[12.99999986]\n",
      " [ 9.35424849]]\n",
      "v =  [[2.00016925]\n",
      " [2.99999998]]\n",
      "5 [[15.00016911]\n",
      " [12.35424847]]\n",
      "v =  [[3.79405743e-04]\n",
      " [2.99999997e+00]]\n",
      "6 [[15.00054852]\n",
      " [15.35424844]]\n",
      "v =  [[5.93425840e-04]\n",
      " [2.99999997e+00]]\n",
      "7 [[15.00114194]\n",
      " [18.35424841]]\n",
      "v =  [[4.05218914e-06]\n",
      " [3.00000000e+00]]\n",
      "8 [[15.00114599]\n",
      " [21.35424841]]\n",
      "v =  [[3.11864367e-07]\n",
      " [3.00000000e+00]]\n",
      "9 [[15.00114631]\n",
      " [24.35424841]]\n",
      "v =  [[2.13771939e-07]\n",
      " [6.45747668e-01]]\n",
      "10 [[15.00114652]\n",
      " [24.99999608]]\n"
     ]
    }
   ],
   "source": [
    "bot = MPC_Agent(np.array([1.0,1.0]).reshape((2,1)),np.array([15.0,25.0]).reshape((2,1)),40, 3, np.array([10,12,4]).reshape((3,1)))\n",
    "bot.traj_opti()"
   ]
  },
  {
   "cell_type": "code",
   "execution_count": null,
   "metadata": {},
   "outputs": [],
   "source": []
  }
 ],
 "metadata": {
  "kernelspec": {
   "display_name": "Python 3",
   "language": "python",
   "name": "python3"
  },
  "language_info": {
   "codemirror_mode": {
    "name": "ipython",
    "version": 3
   },
   "file_extension": ".py",
   "mimetype": "text/x-python",
   "name": "python",
   "nbconvert_exporter": "python",
   "pygments_lexer": "ipython3",
   "version": "3.6.9"
  }
 },
 "nbformat": 4,
 "nbformat_minor": 4
}
